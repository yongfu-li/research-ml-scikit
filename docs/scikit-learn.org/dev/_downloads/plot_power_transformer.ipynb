{
  "cells": [
    {
      "cell_type": "code",
      "execution_count": null,
      "metadata": {
        "collapsed": false
      },
      "outputs": [],
      "source": [
        "%matplotlib inline"
      ]
    },
    {
      "cell_type": "markdown",
      "metadata": {},
      "source": [
        "\n# Using PowerTransformer to apply the Box-Cox transformation\n\n\nThis example demonstrates the use of the Box-Cox transform through\n:class:`preprocessing.PowerTransformer` to map data from various distributions\nto a normal distribution.\n\nBox-Cox is useful as a transformation in modeling problems where\nhomoscedasticity and normality are desired. Below are examples of Box-Cox\napplied to six different probability distributions: Lognormal, Chi-squared,\nWeibull, Gaussian, Uniform, and Bimodal.\n\nNote that the transformation successfully maps the data to a normal\ndistribution when applied to certain datasets, but is ineffective with others.\nThis highlights the importance of visualizing the data before and after\ntransformation. Also note that while the standardize option is set to False for\nthe plot examples, by default, :class:`preprocessing.PowerTransformer` also\napplies zero-mean, unit-variance standardization to the transformed outputs.\n\n"
      ]
    },
    {
      "cell_type": "code",
      "execution_count": null,
      "metadata": {
        "collapsed": false
      },
      "outputs": [],
      "source": [
        "# Author: Eric Chang <ericchang2017@u.northwestern.edu>\n# License: BSD 3 clause\n\nimport numpy as np\nimport matplotlib.pyplot as plt\n\nfrom sklearn.preprocessing import PowerTransformer, minmax_scale\n\nprint(__doc__)\n\n\nN_SAMPLES = 3000\nFONT_SIZE = 6\nBINS = 100\n\n\npt = PowerTransformer(method='box-cox', standardize=False)\nrng = np.random.RandomState(304)\nsize = (N_SAMPLES, 1)\n\n\n# lognormal distribution\nX_lognormal = rng.lognormal(size=size)\n\n# chi-squared distribution\ndf = 3\nX_chisq = rng.chisquare(df=df, size=size)\n\n# weibull distribution\na = 50\nX_weibull = rng.weibull(a=a, size=size)\n\n# gaussian distribution\nloc = 100\nX_gaussian = rng.normal(loc=loc, size=size)\n\n# uniform distribution\nX_uniform = rng.uniform(low=0, high=1, size=size)\n\n# bimodal distribution\nloc_a, loc_b = 100, 105\nX_a, X_b = rng.normal(loc=loc_a, size=size), rng.normal(loc=loc_b, size=size)\nX_bimodal = np.concatenate([X_a, X_b], axis=0)\n\n\n# create plots\ndistributions = [\n    ('Lognormal', X_lognormal),\n    ('Chi-squared', X_chisq),\n    ('Weibull', X_weibull),\n    ('Gaussian', X_gaussian),\n    ('Uniform', X_uniform),\n    ('Bimodal', X_bimodal)\n]\n\ncolors = ['firebrick', 'darkorange', 'goldenrod',\n          'seagreen', 'royalblue', 'darkorchid']\n\nfig, axes = plt.subplots(nrows=4, ncols=3)\naxes = axes.flatten()\naxes_idxs = [(0, 3), (1, 4), (2, 5), (6, 9), (7, 10), (8, 11)]\naxes_list = [(axes[i], axes[j]) for i, j in axes_idxs]\n\n\nfor distribution, color, axes in zip(distributions, colors, axes_list):\n    name, X = distribution\n    # scale all distributions to the range [0, 10]\n    X = minmax_scale(X, feature_range=(1e-10, 10))\n\n    # perform power transform\n    X_trans = pt.fit_transform(X)\n    lmbda = round(pt.lambdas_[0], 2)\n\n    ax_original, ax_trans = axes\n\n    ax_original.hist(X, color=color, bins=BINS)\n    ax_original.set_title(name, fontsize=FONT_SIZE)\n    ax_original.tick_params(axis='both', which='major', labelsize=FONT_SIZE)\n\n    ax_trans.hist(X_trans, color=color, bins=BINS)\n    ax_trans.set_title('{} after Box-Cox, $\\lambda$ = {}'.format(name, lmbda),\n                       fontsize=FONT_SIZE)\n    ax_trans.tick_params(axis='both', which='major', labelsize=FONT_SIZE)\n\n\nplt.tight_layout()\nplt.show()"
      ]
    }
  ],
  "metadata": {
    "kernelspec": {
      "display_name": "Python 3",
      "language": "python",
      "name": "python3"
    },
    "language_info": {
      "codemirror_mode": {
        "name": "ipython",
        "version": 3
      },
      "file_extension": ".py",
      "mimetype": "text/x-python",
      "name": "python",
      "nbconvert_exporter": "python",
      "pygments_lexer": "ipython3",
      "version": "3.6.4"
    }
  },
  "nbformat": 4,
  "nbformat_minor": 0
}